{
 "cells": [
  {
   "cell_type": "code",
   "execution_count": 1,
   "id": "0fac9b58-a36c-4c60-baf6-8e1cf7b98218",
   "metadata": {},
   "outputs": [],
   "source": [
    "import os\n",
    "os.chdir(\"\") # Update with your directory"
   ]
  },
  {
   "cell_type": "code",
   "execution_count": 28,
   "id": "5e543a8b-7f6e-4da6-9899-8aabc78aa6a6",
   "metadata": {},
   "outputs": [],
   "source": [
    "import pandas as pd\n",
    "df = pd.read_excel('bgg/2019_data.xlsx', index_col=None)\n",
    "df = df.astype(str)"
   ]
  },
  {
   "cell_type": "code",
   "execution_count": 42,
   "id": "42dcddba-6835-41cb-85ba-86f33b20bcf6",
   "metadata": {},
   "outputs": [],
   "source": [
    "#Write txt version of geeklist\n",
    "with open(\"bgg/2019_txt.txt\", \"a\") as file:\n",
    "    for x in range(0, 100):\n",
    "        file.write(\"-----\"+df.iloc[x]['game']+\"-----\"+\"\\n\"+\"[b][size=18]#\"+df.iloc[x]['placement']+\"[/size][/b]\"+\"\\n\"+\"[c]\"+\"\\n\"+\"              [u]\"+df.iloc[x]['year']+\"[/u]\"+\"\\n\"+\"Rank:         \"+df.iloc[x]['placement']+\"\\n\"+\"Score:        \"+df.iloc[x]['score_f']+\"\\n\"+\"Avg. vote:    \"+df.iloc[x]['avg_vote']+\"\\n\"+\"# of votes:   \"+df.iloc[x]['count_tot']+\"\\n\"+\"Highest vote: \"+df.iloc[x]['max_vote']+\"\\n\"+\"#1 votes:     \"+df.iloc[x]['count1']+\"\\n\"+\"[/c]\"+\"\\n\")\n",
    "        temp = df.iloc[x]['note']\n",
    "        if temp == \".\":\n",
    "            file.write(\"-----\"+\"\\n\")\n",
    "        else:\n",
    "            file.write(\"\\n\"+\"Note: \"+temp+\"\\n\"+\"-----\"+\"\\n\")"
   ]
  },
  {
   "cell_type": "code",
   "execution_count": null,
   "id": "857a60f3-797d-4161-88c5-e93b3e461013",
   "metadata": {},
   "outputs": [],
   "source": []
  }
 ],
 "metadata": {
  "kernelspec": {
   "display_name": "Python 3 (ipykernel)",
   "language": "python",
   "name": "python3"
  },
  "language_info": {
   "codemirror_mode": {
    "name": "ipython",
    "version": 3
   },
   "file_extension": ".py",
   "mimetype": "text/x-python",
   "name": "python",
   "nbconvert_exporter": "python",
   "pygments_lexer": "ipython3",
   "version": "3.11.3"
  }
 },
 "nbformat": 4,
 "nbformat_minor": 5
}
