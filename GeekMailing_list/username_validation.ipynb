{
 "cells": [
  {
   "cell_type": "code",
   "execution_count": 1,
   "id": "2aa572e6-1076-4815-a47f-a4a4626aed18",
   "metadata": {},
   "outputs": [
    {
     "data": {
      "text/plain": [
       "\"\\nWhen pasting the GeekMailing (GM) list into BGG, you might encounter errors.\\nThis can happen because there is a typo in the list and/or because someone changed the username.\\nUnfortunately, BGG doesn't tell you which username is causing issues.\\nThis code fetches the GM list and uses the BGG API to validate the usernames.\\n\""
      ]
     },
     "execution_count": 1,
     "metadata": {},
     "output_type": "execute_result"
    }
   ],
   "source": [
    "\"\"\"\n",
    "When pasting the GeekMailing (GM) list into BGG, you might encounter errors.\n",
    "This can happen because there is a typo in the list and/or because someone changed the username.\n",
    "Unfortunately, BGG doesn't tell you which username is causing issues.\n",
    "This code fetches the GM list and uses the BGG API to validate the usernames.\n",
    "\"\"\""
   ]
  },
  {
   "cell_type": "code",
   "execution_count": 2,
   "id": "4ee74252-7597-4206-95ca-ceb606fb9526",
   "metadata": {},
   "outputs": [
    {
     "name": "stdout",
     "output_type": "stream",
     "text": [
      "Checking username: 2d20\n",
      "Checking username: Aiken Drum\n",
      "Checking username: antonioalg\n",
      "Checking username: Arah\n",
      "Checking username: astamatis06\n",
      "Checking username: Birdwrong\n",
      "Checking username: bngabletofly\n",
      "Checking username: Cybaeus\n",
      "Checking username: dynahthirst\n",
      "Checking username: eversilver\n",
      "Checking username: Ezraar\n",
      "Checking username: goudie\n",
      "Checking username: Helen Horselip\n",
      "Checking username: ilovemariko\n",
      "Checking username: JainaJ\n",
      "Checking username: JanMS\n",
      "Checking username: joqose\n",
      "Checking username: jroddy27\n",
      "Checking username: Kaila_X\n",
      "Checking username: KevKevKev\n",
      "Checking username: kintanakely\n",
      "Checking username: Lemoneg\n",
      "Checking username: Lurtz3019\n",
      "Checking username: Matt Booker\n",
      "Checking username: mogli43\n",
      "Checking username: Mousqueton\n",
      "Checking username: nadigames93\n",
      "Checking username: Nadisio19\n",
      "Checking username: Nanorider426\n",
      "Checking username: Neutral_Planet\n",
      "Checking username: nighttowll\n",
      "Checking username: northcarmen\n",
      "Checking username: Pjandy\n",
      "Checking username: ppollock\n",
      "Checking username: RevMom\n",
      "Checking username: saraccog1\n",
      "Checking username: SarahJerry\n",
      "Checking username: scifiandeeyore\n",
      "Checking username: scully6\n",
      "Checking username: ShelfGamer\n",
      "Checking username: Sklydick\n",
      "Checking username: thepov\n",
      "Checking username: Thomas29\n",
      "Checking username: waxbottle\n",
      "Checking username: Ycarax\n",
      "Checking username: ZombieBoard\n",
      "\n",
      "Invalid Usernames:\n"
     ]
    }
   ],
   "source": [
    "import requests\n",
    "import xml.etree.ElementTree as ET\n",
    "import time\n",
    "from urllib.parse import quote  # For URL-encoding\n",
    "from html import unescape  # To handle improperly escaped XML entities\n",
    "\n",
    "# Step 1: Fetch the usernames from the GitHub raw URL\n",
    "def fetch_usernames_from_github():\n",
    "    github_url = \"https://raw.githubusercontent.com/DrBewd/BGG_top200_at_2_data_repository/main/GeekMailing_list/usernames\"\n",
    "    response = requests.get(github_url)\n",
    "    if response.status_code == 200:\n",
    "        # Extract the first line (usernames) and split by comma\n",
    "        content = response.text.strip()\n",
    "        first_line = content.split(\"\\n\")[0]  # Get the line with usernames\n",
    "        return [username.strip() for username in first_line.split(\",\")]  # Split and strip whitespace\n",
    "    else:\n",
    "        print(f\"Failed to fetch usernames from GitHub: {response.status_code}\")\n",
    "        return []\n",
    "\n",
    "# Step 2: Check if a username is valid using the BGG API\n",
    "def is_valid_username(username):\n",
    "    encoded_username = quote(username)  # URL-encode the username to handle spaces and special characters\n",
    "    bgg_api_url = f\"https://boardgamegeek.com/xmlapi2/user?name={encoded_username}\"\n",
    "    try:\n",
    "        response = requests.get(bgg_api_url, timeout=10)  # Set a timeout to avoid hanging\n",
    "        if response.status_code == 200:\n",
    "            # Clean up XML response to handle special characters\n",
    "            cleaned_response = unescape(response.text)\n",
    "            root = ET.fromstring(cleaned_response)\n",
    "            if root.tag == \"user\":\n",
    "                return True\n",
    "        print(f\"API Response for {username}: {response.text}\")  # Debugging: Print the response if invalid\n",
    "    except ET.ParseError as e:\n",
    "        print(f\"XML parsing error for username {username}: {e}\")\n",
    "    except requests.exceptions.RequestException as e:\n",
    "        print(f\"Error checking username {username}: {e}\")\n",
    "    return False\n",
    "\n",
    "# Step 3: Validate usernames and print invalid ones\n",
    "def find_invalid_usernames(usernames):\n",
    "    invalid_usernames = []\n",
    "    for username in usernames:\n",
    "        print(f\"Checking username: {username}\")\n",
    "        if not is_valid_username(username):\n",
    "            print(f\"Invalid username: {username}\")\n",
    "            invalid_usernames.append(username)\n",
    "        time.sleep(1)  # Add a delay to avoid hitting API rate limits\n",
    "    return invalid_usernames\n",
    "\n",
    "# Main function\n",
    "if __name__ == \"__main__\":\n",
    "    usernames = fetch_usernames_from_github()\n",
    "    if usernames:\n",
    "        invalid_usernames = find_invalid_usernames(usernames)\n",
    "        print(\"\\nInvalid Usernames:\")\n",
    "        for invalid in invalid_usernames:\n",
    "            print(invalid)\n",
    "    else:\n",
    "        print(\"No usernames to check.\")\n"
   ]
  },
  {
   "cell_type": "code",
   "execution_count": null,
   "id": "d77f94a2-1083-4eba-9abe-10aa0bca1ab1",
   "metadata": {},
   "outputs": [],
   "source": []
  }
 ],
 "metadata": {
  "kernelspec": {
   "display_name": "Python 3 (ipykernel)",
   "language": "python",
   "name": "python3"
  },
  "language_info": {
   "codemirror_mode": {
    "name": "ipython",
    "version": 3
   },
   "file_extension": ".py",
   "mimetype": "text/x-python",
   "name": "python",
   "nbconvert_exporter": "python",
   "pygments_lexer": "ipython3",
   "version": "3.11.3"
  }
 },
 "nbformat": 4,
 "nbformat_minor": 5
}
